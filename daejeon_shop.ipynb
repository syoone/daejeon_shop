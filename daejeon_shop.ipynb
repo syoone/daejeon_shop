{
  "nbformat": 4,
  "nbformat_minor": 0,
  "metadata": {
    "colab": {
      "name": "daejeon_shop.ipynb",
      "private_outputs": true,
      "provenance": [],
      "include_colab_link": true
    },
    "kernelspec": {
      "name": "python3",
      "display_name": "Python 3"
    },
    "language_info": {
      "name": "python"
    },
    "accelerator": "GPU"
  },
  "cells": [
    {
      "cell_type": "markdown",
      "metadata": {
        "id": "view-in-github",
        "colab_type": "text"
      },
      "source": [
        "<a href=\"https://colab.research.google.com/github/syoone/daejeon_shop/blob/main/daejeon_shop.ipynb\" target=\"_parent\"><img src=\"https://colab.research.google.com/assets/colab-badge.svg\" alt=\"Open In Colab\"/></a>"
      ]
    },
    {
      "cell_type": "markdown",
      "metadata": {
        "id": "YucgFJQHLvM9"
      },
      "source": [
        "### 구글 드라이브 연동"
      ]
    },
    {
      "cell_type": "code",
      "metadata": {
        "id": "XsfXqolZLs_X"
      },
      "source": [
        "import os\n",
        "print(os.getcwd())\n",
        "!ls\n",
        "\n",
        "# 실행시 등장하는 URL을 클릭하여 허용해주면 인증KEY가 나타난다. 복사하여 URL아래 빈칸에 붙여넣으면 마운트에 성공하게된다.\n",
        "from google.colab import drive\n",
        "drive.mount('./MyDrive')\n",
        "\n",
        "# 마운트된 내 드라이브를 확인해보자\n",
        "!ls\n",
        "# 해당 드라이브로 이동 \n",
        "# 내 드라이브는 원격서버가 아니라 로컬서버로 간주하므로 명령어 실행시 앞단에 !를 붙이지 않는다.\n",
        "cd MyDrive/MyDrive\n",
        "\n",
        "# 내드라이브의 전체 목록이 나타난다.\n",
        "ls\n",
        "# 특정파일을 가져오고 싶은 경우 다음과 같이 접근한다.\n",
        "import pandas as pd\n",
        "df = pd.read_csv(\"./MyDrive/test/test.csv\")"
      ],
      "execution_count": null,
      "outputs": []
    },
    {
      "cell_type": "markdown",
      "metadata": {
        "id": "7095lKh_OJzR"
      },
      "source": [
        "# New Section"
      ]
    },
    {
      "cell_type": "code",
      "metadata": {
        "id": "vZJLs3NnN4TP"
      },
      "source": [
        "dir"
      ],
      "execution_count": null,
      "outputs": []
    },
    {
      "cell_type": "code",
      "metadata": {
        "id": "Hlq-0e36N56_"
      },
      "source": [
        "ls"
      ],
      "execution_count": null,
      "outputs": []
    },
    {
      "cell_type": "code",
      "metadata": {
        "id": "oK3SJWw4N6ue"
      },
      "source": [
        "ls -al"
      ],
      "execution_count": null,
      "outputs": []
    },
    {
      "cell_type": "code",
      "metadata": {
        "id": "cUWaI8BqOAeU"
      },
      "source": [
        "pwd"
      ],
      "execution_count": null,
      "outputs": []
    },
    {
      "cell_type": "code",
      "metadata": {
        "id": "IK1vkFZuPgEn"
      },
      "source": [
        "import warnings\n",
        "warnings.filterwarnings('ignore')\n",
        "warnings.filterwarnings(\"ignore\", category=UserWarning)"
      ],
      "execution_count": null,
      "outputs": []
    },
    {
      "cell_type": "code",
      "metadata": {
        "id": "XJNa7h0tPnHW"
      },
      "source": [
        "import pandas as pd\n",
        "from plotnine import *\n",
        "\n",
        "%matplotlib inline"
      ],
      "execution_count": null,
      "outputs": []
    },
    {
      "cell_type": "code",
      "metadata": {
        "id": "d0LuK_OGPpSD"
      },
      "source": [
        "pwd"
      ],
      "execution_count": null,
      "outputs": []
    },
    {
      "cell_type": "code",
      "metadata": {
        "id": "_Gkty8kxPqFu"
      },
      "source": [
        "ls"
      ],
      "execution_count": null,
      "outputs": []
    },
    {
      "cell_type": "code",
      "metadata": {
        "id": "tYCnKxeRPrA9"
      },
      "source": [
        "tmp = pd.read_csv('상가업소정보_대전_2020030.csv',\n",
        "#                   encoding='utf-8',\n",
        "                   encoding='cp949',\n",
        "                   engine='python')"
      ],
      "execution_count": null,
      "outputs": []
    },
    {
      "cell_type": "code",
      "metadata": {
        "id": "YCiDAdMEPwh6"
      },
      "source": [
        "tmp.head()"
      ],
      "execution_count": null,
      "outputs": []
    },
    {
      "cell_type": "markdown",
      "metadata": {
        "id": "rw25CvckRM76"
      },
      "source": [
        "## 2019년 대전지역 상권별 업종밀집 통계\n",
        "* 상권별 밀집도를 보여준다"
      ]
    },
    {
      "cell_type": "code",
      "metadata": {
        "id": "T_m6rve5PzMS"
      },
      "source": [
        "pwd"
      ],
      "execution_count": null,
      "outputs": []
    },
    {
      "cell_type": "code",
      "metadata": {
        "id": "89ZQBvXjP01i"
      },
      "source": [
        "shop = pd.read_csv('상가업소정보_대전_2020030.csv',\n",
        "#                   encoding='utf-8',\n",
        "                   encoding='cp949', \n",
        "                   engine='python')\n",
        "shop.shape"
      ],
      "execution_count": null,
      "outputs": []
    },
    {
      "cell_type": "code",
      "metadata": {
        "id": "1z-ylvMLRcyj"
      },
      "source": [
        "shop.head()"
      ],
      "execution_count": null,
      "outputs": []
    },
    {
      "cell_type": "code",
      "metadata": {
        "id": "iGFR9ZPVRuir"
      },
      "source": [
        "shop.tail()"
      ],
      "execution_count": null,
      "outputs": []
    },
    {
      "cell_type": "code",
      "metadata": {
        "id": "1Du5ZBv6Rvqr"
      },
      "source": [
        "shop['상권업종대분류명'].value_counts()"
      ],
      "execution_count": null,
      "outputs": []
    },
    {
      "cell_type": "code",
      "metadata": {
        "id": "DbNjYh7ORy7n"
      },
      "source": [
        "shop['상권업종중분류명'].value_counts()"
      ],
      "execution_count": null,
      "outputs": []
    },
    {
      "cell_type": "markdown",
      "metadata": {
        "id": "KKsFEY4aR7dX"
      },
      "source": [
        "### 대전지역 상가업소정보 2019년 3월"
      ]
    },
    {
      "cell_type": "code",
      "metadata": {
        "id": "32Y51OKpR0kD"
      },
      "source": [
        "# 상가업소정보 2019년 3월 데이터\n",
        "#shop_2019_03 = pd.read_csv('shop_201806_01.csv', \n",
        "shop_2020_03 = pd.read_csv('상가업소정보_대전_202003.csv', \n",
        "                           encoding='cp949',\n",
        "                           engine='python')\n",
        "shop_2020_03.shape"
      ],
      "execution_count": null,
      "outputs": []
    },
    {
      "cell_type": "code",
      "metadata": {
        "id": "d-kTcyHKSCuw"
      },
      "source": [
        "shop_2020_03.head(3)"
      ],
      "execution_count": null,
      "outputs": []
    },
    {
      "cell_type": "code",
      "metadata": {
        "id": "fh7M6jhFS6rX"
      },
      "source": [
        "shop_2020_03.tail(3)"
      ],
      "execution_count": null,
      "outputs": []
    },
    {
      "cell_type": "code",
      "metadata": {
        "id": "7QTygv11S9Qo"
      },
      "source": [
        "shop_2020_03.columns"
      ],
      "execution_count": null,
      "outputs": []
    },
    {
      "cell_type": "code",
      "metadata": {
        "id": "DwYbR6WdS_SM"
      },
      "source": [
        "shop_2020_03['상호명']"
      ],
      "execution_count": null,
      "outputs": []
    },
    {
      "cell_type": "code",
      "metadata": {
        "id": "iMIuT2_fTBDP"
      },
      "source": [
        "shop_2020_03[['상호명','상권업종대분류명','상권업종소분류명','표준산업분류명','시도명','시군구명']]"
      ],
      "execution_count": null,
      "outputs": []
    },
    {
      "cell_type": "code",
      "metadata": {
        "id": "rQ8RDm8dTD2w"
      },
      "source": [
        "view_columns = ['상호명', '지점명', '상권업종대분류명', '상권업종중분류명',\n",
        "              '상권업종소분류명', '시도명', '시군구명', \n",
        "              '행정동명', '법정동명', '지번주소', '경도', '위도']\n",
        "shop_2020_03[view_columns].head()"
      ],
      "execution_count": null,
      "outputs": []
    },
    {
      "cell_type": "markdown",
      "metadata": {
        "id": "Z6moS4acTIiG"
      },
      "source": [
        "### 생각보다 결측치가 많다."
      ]
    },
    {
      "cell_type": "code",
      "metadata": {
        "id": "pajazvW9TGVJ"
      },
      "source": [
        "shop_2020_03.isnull().sum()"
      ],
      "execution_count": null,
      "outputs": []
    },
    {
      "cell_type": "markdown",
      "metadata": {
        "id": "iDqRdY9MTPpV"
      },
      "source": [
        "### 한글폰트 설정하기"
      ]
    },
    {
      "cell_type": "code",
      "metadata": {
        "id": "QTcySPCLTNfy"
      },
      "source": [
        "import matplotlib.pyplot as plt\n",
        "import seaborn as sns\n",
        "\n",
        "# 실습환경에 맞는 한글폰트 설정을 해주세요.\n",
        "# Window 의 한글 폰트 설정\n",
        "# plt.rc('font',family='Malgun Gothic')\n",
        "# Mac 의 한글 폰트 설정\n",
        "plt.rc('font', family='AppleGothic')"
      ],
      "execution_count": null,
      "outputs": []
    },
    {
      "cell_type": "markdown",
      "metadata": {
        "id": "X6K132IjTX6Z"
      },
      "source": [
        "### missingno 로 결측치 보기\n",
        "* missingno는 별도의 설치가 필요하다"
      ]
    },
    {
      "cell_type": "code",
      "metadata": {
        "id": "XgyxcAyxTVhe"
      },
      "source": [
        "pip install missingno"
      ],
      "execution_count": null,
      "outputs": []
    },
    {
      "cell_type": "code",
      "metadata": {
        "id": "U4nQ529tTihh"
      },
      "source": [
        "import missingno as msno\n",
        "\n",
        "msno.matrix(shop_2020_03)"
      ],
      "execution_count": null,
      "outputs": []
    },
    {
      "cell_type": "markdown",
      "metadata": {
        "id": "Zs-44pjCTnom"
      },
      "source": [
        "#### 모든 데이터를 한번에 찍으면 너무 오래 걸려서 1000개만 찍어봅니다.\n",
        "#### 양쪽에 데이터가 몰려있는데 왜 그런지 주소 정보를 다시보겠습니다.\n",
        "#### plotnine 으로 시각화 하는 코드입니다. plotnine 버전 의존성으로 인해 아래 pandas 의 plot을 사용해 주세요.\n",
        "#### (ggplot(shop_2018_01[:1000])\n",
        "####  + aes(x='경도', y='위도')\n",
        "####  + geom_point()\n",
        "####  + theme(text=element_text(family='NanumBarunGothic')))"
      ]
    },
    {
      "cell_type": "code",
      "metadata": {
        "id": "XYmRi0kUTliw"
      },
      "source": [
        "shop_2020_03.plot.scatter(x='경도', y='위도', grid=True)"
      ],
      "execution_count": null,
      "outputs": []
    },
    {
      "cell_type": "code",
      "metadata": {
        "id": "RQv-Vm_zTyg5"
      },
      "source": [
        "# Pandas 의 plot 으로 위도와 경도를 산점도로 그려봅니다.\n",
        "shop_2020_03[:1000].plot.scatter(x='경도', y='위도', grid=True)"
      ],
      "execution_count": null,
      "outputs": []
    },
    {
      "cell_type": "code",
      "metadata": {
        "id": "F24R5o0sT1B0"
      },
      "source": [
        "# 대전과 대전 이외(~대전) 데이터로 나눠봤다.\n",
        "shop_daejeon = shop_2020_03.loc[shop_2020_03['도로명주소'].str.startswith('대전')]\n",
        "shop_except_daejeon = shop_2020_03.loc[~shop_2020_03['도로명주소'].str.startswith('대전')]\n",
        "print(shop_daejeon.shape)\n",
        "print(shop_except_daejeon.shape)"
      ],
      "execution_count": null,
      "outputs": []
    },
    {
      "cell_type": "code",
      "metadata": {
        "id": "yqc-prW3T4E_"
      },
      "source": [
        "shop_daejeon.head()"
      ],
      "execution_count": null,
      "outputs": []
    },
    {
      "cell_type": "code",
      "metadata": {
        "id": "C0OAvnICT7IL"
      },
      "source": [
        "shop_daejeon.columns"
      ],
      "execution_count": null,
      "outputs": []
    },
    {
      "cell_type": "code",
      "metadata": {
        "id": "nyq13bk3T9Kz"
      },
      "source": [
        "# Pandas 의 plot 으로 위도와 경도를 산점도로 그려봅니다.\n",
        "# 그래프가 너무 찌그러져 보이지 않도록 그래프 사이즈를 figsize=(16, 12) 로 조정합니다.\n",
        "shop_daejeon.plot.scatter(x='경도', y='위도', figsize=(16, 12), grid=True)"
      ],
      "execution_count": null,
      "outputs": []
    },
    {
      "cell_type": "code",
      "metadata": {
        "id": "_p_xH21VUBFZ"
      },
      "source": [
        "shop_2020_03['도로명주소'].head()"
      ],
      "execution_count": null,
      "outputs": []
    },
    {
      "cell_type": "code",
      "metadata": {
        "id": "hSJQw-_UUHmJ"
      },
      "source": [
        "shop_2020_03['도로명주소'].tail()"
      ],
      "execution_count": null,
      "outputs": []
    },
    {
      "cell_type": "code",
      "metadata": {
        "id": "JIPHSC-kUKP_"
      },
      "source": [
        "print(shop_2020_03.shape)\n",
        "shop_2020_03['시도'] = shop_2020_03['도로명주소'].str.split(' ', expand=True)[0]\n",
        "shop_2020_03['구군'] = shop_2020_03['도로명주소'].str.split(' ', expand=True)[1]\n",
        "print(shop_2020_03.shape)\n",
        "shop_2020_03.columns"
      ],
      "execution_count": null,
      "outputs": []
    },
    {
      "cell_type": "code",
      "metadata": {
        "id": "-L99T6ILUMKa"
      },
      "source": [
        "shop_daejeon = shop_2020_03.loc[shop_2020_03['도로명주소'].str.startswith('대전')]\n",
        "shop_daejeon.shape"
      ],
      "execution_count": null,
      "outputs": []
    },
    {
      "cell_type": "code",
      "metadata": {
        "id": "T8lAIPTAUQkP"
      },
      "source": [
        "# ggplot 라이브러리의 버전 의존성 문제로 seaborn 을 통해 시각화 합니다.\n",
        "# 전체 데이터를 그리면 속도가 너무 오래 걸리기 때문에 \n",
        "# 파이썬의 슬라이싱 기능을 활용해서 [:10000] 10000 개만 뽑아와서 그려봅니다.\n",
        "plt.figure(figsize=(16, 12))\n",
        "sns.scatterplot(data=shop_daejeon[:10000], x='경도', y='위도', hue='시군구명')"
      ],
      "execution_count": null,
      "outputs": []
    },
    {
      "cell_type": "code",
      "metadata": {
        "id": "LS3kMEV4UTyk"
      },
      "source": [
        "plt.figure(figsize=(16, 12))\n",
        "sns.scatterplot(data=shop_daejeon[:], x='경도', y='위도', hue='시군구명')"
      ],
      "execution_count": null,
      "outputs": []
    },
    {
      "cell_type": "code",
      "metadata": {
        "id": "HmTtETDRUXZc"
      },
      "source": [
        "shop_daejeon['상권업종대분류명'].value_counts()"
      ],
      "execution_count": null,
      "outputs": []
    },
    {
      "cell_type": "code",
      "metadata": {
        "id": "TCjb_-AkUaFV"
      },
      "source": [
        "# 전체 데이터를 출력하는데 시간이 너무 오래 걸린다면 \n",
        "# data=shop_daejeon 대신 data=shop_daejeon[:10000] 로 만개의 데이터만 가져와서 출력해 보셔도 됩니다.\n",
        "plt.figure(figsize=(16, 12))\n",
        "sns.scatterplot(data=shop_daejeon[:10000], x='경도', y='위도', hue='상권업종대분류명')"
      ],
      "execution_count": null,
      "outputs": []
    },
    {
      "cell_type": "markdown",
      "metadata": {
        "id": "9_q3rv3xUey4"
      },
      "source": [
        "### 학문/교육과 관련된 정보 보기"
      ]
    },
    {
      "cell_type": "code",
      "metadata": {
        "id": "71L8L7inUcq-"
      },
      "source": [
        "shop_daejeon_edu = shop_daejeon[shop_daejeon['상권업종대분류명'] == '학문/교육']"
      ],
      "execution_count": null,
      "outputs": []
    },
    {
      "cell_type": "markdown",
      "metadata": {
        "id": "7cRrO_OCUoeu"
      },
      "source": [
        "#### (ggplot(shop_daejeon_edu)\n",
        "####  + aes(x='경도', y='위도', color='상권업종중분류명')\n",
        "####  + geom_point(size=0.2)\n",
        "####  + theme(text=element_text(family='NanumBarunGothic'))\n",
        "####  + scale_fill_gradient(low = 'blue', high = 'green') \n",
        "#### )"
      ]
    },
    {
      "cell_type": "code",
      "metadata": {
        "id": "NXmeA8XDUjy1"
      },
      "source": [
        "plt.figure(figsize=(16, 12))\n",
        "sns.scatterplot(data=shop_daejeon_edu, x='경도', y='위도', hue='상권업종중분류명')"
      ],
      "execution_count": null,
      "outputs": []
    },
    {
      "cell_type": "markdown",
      "metadata": {
        "id": "Lalei5aaUx64"
      },
      "source": [
        "### 부동산과 관련된 정보 보기"
      ]
    },
    {
      "cell_type": "code",
      "metadata": {
        "id": "8HLJYQLFUvue"
      },
      "source": [
        "shop_daejeon_realty = shop_daejeon[shop_daejeon['상권업종대분류명'] == '부동산']\n",
        "\n",
        "# (ggplot(shop_daejeon_realty)\n",
        "#  + aes(x='경도', y='위도', color='상권업종중분류명')\n",
        "#  + geom_point(size=0.2)\n",
        "#  + theme(text=element_text(family='NanumBarunGothic'))\n",
        "#  + scale_fill_gradient(low = 'blue', high = 'green') \n",
        "# )"
      ],
      "execution_count": null,
      "outputs": []
    },
    {
      "cell_type": "code",
      "metadata": {
        "id": "kJ2mP3phU3A-"
      },
      "source": [
        "plt.figure(figsize=(16, 12))\n",
        "sns.scatterplot(data=shop_daejeon_realty, x='경도', y='위도', hue='상권업종중분류명')"
      ],
      "execution_count": null,
      "outputs": []
    },
    {
      "cell_type": "markdown",
      "metadata": {
        "id": "VNZZoozTU7DN"
      },
      "source": [
        "### 학원-컴퓨터 관련 업종"
      ]
    },
    {
      "cell_type": "code",
      "metadata": {
        "id": "tgS2rMPTU5AZ"
      },
      "source": [
        "shop_daejeon_edu_computer = shop_daejeon.loc[shop_daejeon['상권업종중분류명'] == '학원-컴퓨터']\n",
        "\n",
        "# (ggplot(shop_daejeon_edu)\n",
        "#  + aes(x='경도', y='위도', color='상권업종중분류명')\n",
        "#  + geom_point()\n",
        "#  + theme(text=element_text(family='NanumBarunGothic'))\n",
        "#  + scale_fill_gradient(low = 'blue', high = 'green') \n",
        "# )\n",
        "\n",
        "plt.figure(figsize=(16, 12))\n",
        "sns.scatterplot(data=shop_daejeon_edu_computer, x='경도', y='위도', hue='상권업종중분류명', \n",
        "                alpha='auto')"
      ],
      "execution_count": null,
      "outputs": []
    },
    {
      "cell_type": "code",
      "metadata": {
        "id": "hkvO6FmYVAX8"
      },
      "source": [
        "import folium\n",
        "\n",
        "def show_marker_map(geo_df):\n",
        "    map = folium.Map(location=[geo_df['위도'].mean(), geo_df['경도'].mean()], \n",
        "                     zoom_start=12, tiles='Stamen Terrain')\n",
        "\n",
        "    for n in geo_df.index:\n",
        "        shop_name = geo_df.loc[n, '상호명'] + ' - ' + geo_df.loc[n, '도로명주소']\n",
        "        folium.Marker([geo_df.loc[n, '위도'], \n",
        "                       geo_df.loc[n, '경도']], \n",
        "                      popup=shop_name).add_to(map)\n",
        "\n",
        "    return map"
      ],
      "execution_count": null,
      "outputs": []
    },
    {
      "cell_type": "code",
      "metadata": {
        "id": "huPrkgkWVDGv"
      },
      "source": [
        "show_marker_map(shop_daejeon_edu_computer)"
      ],
      "execution_count": null,
      "outputs": []
    },
    {
      "cell_type": "markdown",
      "metadata": {
        "id": "zmlT_-WPVHJl"
      },
      "source": [
        "### 편의점 카페 분포 보기"
      ]
    },
    {
      "cell_type": "code",
      "metadata": {
        "id": "F01I1VkkVFd9"
      },
      "source": [
        "shop_daejeon_eat = shop_daejeon[shop_daejeon['상권업종중분류명'] == '커피점/카페']\n",
        "\n",
        "# (ggplot(shop_daejeon_eat)\n",
        "#  + aes(x='경도', y='위도', color='구군')\n",
        "#  + geom_point(size=0.7)\n",
        "#  + theme(text=element_text(family='NanumBarunGothic'))\n",
        "#  + scale_fill_gradient(low = 'blue', high = 'green') \n",
        "# )"
      ],
      "execution_count": null,
      "outputs": []
    },
    {
      "cell_type": "code",
      "metadata": {
        "id": "8IKo0EXqVLmB"
      },
      "source": [
        "shop_daejeon_eat.head()"
      ],
      "execution_count": null,
      "outputs": []
    },
    {
      "cell_type": "code",
      "metadata": {
        "id": "K7Zk2YqZVN1X"
      },
      "source": [
        "plt.figure(figsize=(16, 12))\n",
        "sns.scatterplot(data=shop_daejeon_eat, x='경도', y='위도', hue='구군', \n",
        "                alpha='auto')"
      ],
      "execution_count": null,
      "outputs": []
    },
    {
      "cell_type": "code",
      "metadata": {
        "id": "bvufB9rxVP-y"
      },
      "source": [
        "shop_daejeon_eat.shape"
      ],
      "execution_count": null,
      "outputs": []
    },
    {
      "cell_type": "code",
      "metadata": {
        "id": "wdh3ujghVSMg"
      },
      "source": [
        "geo_df = shop_daejeon_eat[shop_daejeon_eat[\"구군\"] == \"중구\"]\n",
        "\n",
        "map = folium.Map(location=[geo_df['위도'].mean(), \n",
        "                           geo_df['경도'].mean()], \n",
        "                 zoom_start=16, tiles='Stamen Terrain')\n",
        "\n",
        "for n in geo_df.index:\n",
        "    shop_name = geo_df.loc[n, '상호명'] + ' - ' + geo_df.loc[n, '도로명주소']\n",
        "    folium.Marker([geo_df.loc[n, '위도'], geo_df.loc[n, '경도']], \n",
        "                  popup=shop_name).add_to(map)\n",
        "\n",
        "map"
      ],
      "execution_count": null,
      "outputs": []
    },
    {
      "cell_type": "markdown",
      "metadata": {
        "id": "y9ZxhiDdVZWj"
      },
      "source": [
        "### 대전외 지역 보기"
      ]
    },
    {
      "cell_type": "code",
      "metadata": {
        "id": "Fd1baJquVUGY"
      },
      "source": [
        "# 부산만 있는거 같습니다.\n",
        "# 서울만 제외한 나머지 지역으로 DF을 다시 생성해 줍니다.\n",
        "# ~ 이라는 연산은 not(부정)을 의미합니다.\n",
        "shop_except_daejeon = shop_2020_03.loc[~shop_2020_03['도로명주소'].str.startswith('대전')]\n",
        "\n",
        "# (ggplot(shop_except_daejeon)\n",
        "#  + aes(x='경도', y='위도', color='구군')\n",
        "#  + geom_point(size=0.7)\n",
        "#  + theme(text=element_text(family='NanumBarunGothic'))\n",
        "# )"
      ],
      "execution_count": null,
      "outputs": []
    },
    {
      "cell_type": "code",
      "metadata": {
        "id": "UW0M1p-qVdxX"
      },
      "source": [
        "plt.figure(figsize=(16, 10))\n",
        "sns.scatterplot(data=shop_except_daejeon, x='경도', y='위도', hue='구군', \n",
        "                alpha='auto')"
      ],
      "execution_count": null,
      "outputs": []
    },
    {
      "cell_type": "code",
      "metadata": {
        "id": "R6pxyba1VfaI"
      },
      "source": [
        ""
      ],
      "execution_count": null,
      "outputs": []
    }
  ]
}